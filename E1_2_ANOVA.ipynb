{
  "cells": [
    {
      "cell_type": "code",
      "execution_count": 2,
      "metadata": {
        "id": "Wj6pcvXSByTF"
      },
      "outputs": [],
      "source": [
        "import numpy as np\n",
        "import scipy.stats as stats\n",
        "import pandas as pd\n",
        "import matplotlib.pyplot as plt\n",
        "import statsmodels.api as sm\n",
        "import seaborn as sns #for the 2-way dataset\n",
        "from statsmodels.stats.multicomp import pairwise_tukeyhsd\n",
        "from statsmodels.formula.api import ols"
      ]
    },
    {
      "cell_type": "code",
      "execution_count": 3,
      "metadata": {
        "colab": {
          "base_uri": "https://localhost:8080/"
        },
        "id": "CP67h_CRB5EA",
        "outputId": "799981ac-eab7-4f5a-a37b-721a66a66ccd"
      },
      "outputs": [
        {
          "name": "stdout",
          "output_type": "stream",
          "text": [
            "<class 'pandas.core.frame.DataFrame'>\n",
            "RangeIndex: 658 entries, 0 to 657\n",
            "Data columns (total 23 columns):\n",
            " #   Column         Non-Null Count  Dtype  \n",
            "---  ------         --------------  -----  \n",
            " 0   Alcaldia       658 non-null    object \n",
            " 1   Colonia        658 non-null    object \n",
            " 2   X1             658 non-null    float64\n",
            " 3   X2             658 non-null    float64\n",
            " 4   X3             658 non-null    float64\n",
            " 5   X4             658 non-null    float64\n",
            " 6   X5             658 non-null    float64\n",
            " 7   X6             658 non-null    float64\n",
            " 8   X7             658 non-null    float64\n",
            " 9   X8             658 non-null    float64\n",
            " 10  X9             658 non-null    float64\n",
            " 11  X10            658 non-null    float64\n",
            " 12  Cocina_equip   658 non-null    object \n",
            " 13  Gimnasio       658 non-null    object \n",
            " 14  Amueblado      658 non-null    object \n",
            " 15  Alberca        658 non-null    object \n",
            " 16  Terraza        658 non-null    object \n",
            " 17  Elevador       658 non-null    object \n",
            " 18  m2_construido  658 non-null    float64\n",
            " 19  Baños          658 non-null    float64\n",
            " 20  Recamaras      658 non-null    int64  \n",
            " 21  Lugares_estac  658 non-null    object \n",
            " 22  Precio_m2      658 non-null    float64\n",
            "dtypes: float64(13), int64(1), object(9)\n",
            "memory usage: 118.4+ KB\n"
          ]
        }
      ],
      "source": [
        "#Carga desde un archivo .xlsx sin indice\n",
        "inmu = pd.read_excel('RetoConglomerados.xlsx')\n",
        "inmu.info()"
      ]
    },
    {
      "cell_type": "code",
      "execution_count": 4,
      "metadata": {
        "colab": {
          "base_uri": "https://localhost:8080/",
          "height": 423
        },
        "id": "BFPLm3SoFCvJ",
        "outputId": "a273801a-b29b-43be-b2db-a194b3f073d1"
      },
      "outputs": [
        {
          "data": {
            "text/html": [
              "<div>\n",
              "<style scoped>\n",
              "    .dataframe tbody tr th:only-of-type {\n",
              "        vertical-align: middle;\n",
              "    }\n",
              "\n",
              "    .dataframe tbody tr th {\n",
              "        vertical-align: top;\n",
              "    }\n",
              "\n",
              "    .dataframe thead th {\n",
              "        text-align: right;\n",
              "    }\n",
              "</style>\n",
              "<table border=\"1\" class=\"dataframe\">\n",
              "  <thead>\n",
              "    <tr style=\"text-align: right;\">\n",
              "      <th></th>\n",
              "      <th>Alcaldia</th>\n",
              "      <th>Precio_m2</th>\n",
              "    </tr>\n",
              "  </thead>\n",
              "  <tbody>\n",
              "    <tr>\n",
              "      <th>0</th>\n",
              "      <td>La Magdalena Contreras</td>\n",
              "      <td>6500.00</td>\n",
              "    </tr>\n",
              "    <tr>\n",
              "      <th>1</th>\n",
              "      <td>Tlahuac</td>\n",
              "      <td>1200.00</td>\n",
              "    </tr>\n",
              "    <tr>\n",
              "      <th>2</th>\n",
              "      <td>Cuajimalpa</td>\n",
              "      <td>17500.00</td>\n",
              "    </tr>\n",
              "    <tr>\n",
              "      <th>3</th>\n",
              "      <td>Tlahuac</td>\n",
              "      <td>1046.40</td>\n",
              "    </tr>\n",
              "    <tr>\n",
              "      <th>4</th>\n",
              "      <td>Tlahuac</td>\n",
              "      <td>1195.00</td>\n",
              "    </tr>\n",
              "    <tr>\n",
              "      <th>...</th>\n",
              "      <td>...</td>\n",
              "      <td>...</td>\n",
              "    </tr>\n",
              "    <tr>\n",
              "      <th>653</th>\n",
              "      <td>Benito Juárez</td>\n",
              "      <td>5791.80</td>\n",
              "    </tr>\n",
              "    <tr>\n",
              "      <th>654</th>\n",
              "      <td>Coyoacan</td>\n",
              "      <td>2200.00</td>\n",
              "    </tr>\n",
              "    <tr>\n",
              "      <th>655</th>\n",
              "      <td>La Magdalena Contreras</td>\n",
              "      <td>1094.44</td>\n",
              "    </tr>\n",
              "    <tr>\n",
              "      <th>656</th>\n",
              "      <td>Iztapalapa</td>\n",
              "      <td>650.00</td>\n",
              "    </tr>\n",
              "    <tr>\n",
              "      <th>657</th>\n",
              "      <td>Azcapotzalco</td>\n",
              "      <td>3090.00</td>\n",
              "    </tr>\n",
              "  </tbody>\n",
              "</table>\n",
              "<p>658 rows × 2 columns</p>\n",
              "</div>"
            ],
            "text/plain": [
              "                   Alcaldia  Precio_m2\n",
              "0    La Magdalena Contreras    6500.00\n",
              "1                   Tlahuac    1200.00\n",
              "2                Cuajimalpa   17500.00\n",
              "3                   Tlahuac    1046.40\n",
              "4                   Tlahuac    1195.00\n",
              "..                      ...        ...\n",
              "653           Benito Juárez    5791.80\n",
              "654                Coyoacan    2200.00\n",
              "655  La Magdalena Contreras    1094.44\n",
              "656              Iztapalapa     650.00\n",
              "657            Azcapotzalco    3090.00\n",
              "\n",
              "[658 rows x 2 columns]"
            ]
          },
          "execution_count": 4,
          "metadata": {},
          "output_type": "execute_result"
        }
      ],
      "source": [
        "#Seleccionamos las variables que analizaremos para nuestro primero modelo.\n",
        "OWA1 = inmu.iloc[ : , [0,22]]\n",
        "OWA1"
      ]
    },
    {
      "cell_type": "code",
      "execution_count": 5,
      "metadata": {
        "colab": {
          "base_uri": "https://localhost:8080/"
        },
        "id": "IgOc689ZFM3z",
        "outputId": "a7a80f66-cf36-4a87-f8cb-8c59fc5b35a1"
      },
      "outputs": [
        {
          "name": "stdout",
          "output_type": "stream",
          "text": [
            "ANOVA de una vía - Resultados:\n",
            "Puntaje F: 27.50\n",
            "P-valor: 0.0000\n",
            "Se rechaza la hipótesis nula. Existen diferencias significativas entre grupos.\n"
          ]
        }
      ],
      "source": [
        "#creamos una lista de las emosiones de CO2 y las agrupamos por cilindraje.\n",
        "agrudatos1 = [group[1]['Precio_m2'] for group in OWA1.groupby('Alcaldia')] #\n",
        "\n",
        "#Realizamos la prueba ANOVA 1 via.\n",
        "estadistico_f, p_valor = stats.f_oneway(*agrudatos1)#desempaquetamos la lista en elementos individuales.\n",
        "#?\n",
        "\n",
        "# Imprimimos el resultado\n",
        "print(\"ANOVA de una vía - Resultados:\")\n",
        "print(f\"Puntaje F: {estadistico_f:.2f}\")\n",
        "print(f\"P-valor: {p_valor:.4f}\")\n",
        "\n",
        "# Para simplificar la interpretación de los resultados:\n",
        "alpha = 0.05 #Podemos elegir un valor considerando nuestro nivel de confianza\n",
        "if p_valor < alpha:\n",
        "    print(\"Se rechaza la hipótesis nula. Existen diferencias significativas entre grupos.\")\n",
        "else:\n",
        "    print(\"No se rechaza la hipótesis nula. No existen diferencias significativas entre grupos.\")"
      ]
    },
    {
      "cell_type": "code",
      "execution_count": 6,
      "metadata": {
        "colab": {
          "base_uri": "https://localhost:8080/",
          "height": 565
        },
        "id": "uyrvSdmSFZcG",
        "outputId": "12821adf-e62c-4507-a45b-0d264c420877"
      },
      "outputs": [
        {
          "name": "stderr",
          "output_type": "stream",
          "text": [
            "C:\\Users\\maria\\AppData\\Local\\Temp\\ipykernel_18504\\2438790052.py:3: FutureWarning: \n",
            "\n",
            "Passing `palette` without assigning `hue` is deprecated and will be removed in v0.14.0. Assign the `y` variable to `hue` and set `legend=False` for the same effect.\n",
            "\n",
            "  sns.boxplot(x='Precio_m2', y='Alcaldia', data=OWA1, palette='Set2')\n"
          ]
        },
        {
          "data": {
            "image/png": "[encoded data removed]",
            "text/plain": [
              "<Figure size 800x600 with 1 Axes>"
            ]
          },
          "metadata": {},
          "output_type": "display_data"
        }
      ],
      "source": [
        "#visualizamos los datos:\n",
        "plt.figure(figsize=(8, 6))\n",
        "sns.boxplot(x='Precio_m2', y='Alcaldia', data=OWA1, palette='Set2')\n",
        "plt.title('Box Plot Precio por Alcaldia')\n",
        "plt.xlabel('Precio/m2')\n",
        "plt.ylabel('Alcaldia')\n",
        "plt.show()"
      ]
    },
    {
      "cell_type": "code",
      "execution_count": 7,
      "metadata": {
        "id": "pCB-Gc8CFsj3"
      },
      "outputs": [
        {
          "name": "stdout",
          "output_type": "stream",
          "text": [
            "\n",
            "Resultados Tukey-Kramer prueba Post Hoc:\n",
            "                      Multiple Comparison of Means - Tukey HSD, FWER=0.05                      \n",
            "===============================================================================================\n",
            "        group1                 group2           meandiff  p-adj     lower       upper    reject\n",
            "-----------------------------------------------------------------------------------------------\n",
            "        Alvaro Obregon           Azcapotzalco  -6893.3365    0.0 -10877.0263  -2909.6467   True\n",
            "        Alvaro Obregon          Benito Juárez  -4586.0375 0.0178  -8793.8823   -378.1927   True\n",
            "        Alvaro Obregon               Coyoacan  -6286.1583    0.0  -9734.5505  -2837.7661   True\n",
            "        Alvaro Obregon              Cuahtemoc  -3939.0954  0.084  -8085.8905    207.6998  False\n",
            "        Alvaro Obregon             Cuajimalpa   4111.7277 0.1009   -304.4034   8527.8589  False\n",
            "        Alvaro Obregon      Gustavo A. Madero  -8424.5208    0.0  -11334.329  -5514.7125   True\n",
            "        Alvaro Obregon              Iztacalco  -7982.7885 0.0211 -15404.7291   -560.8478   True\n",
            "        Alvaro Obregon             Iztapalapa  -8004.2339    0.0 -10786.9916  -5221.4762   True\n",
            "        Alvaro Obregon La Magdalena Contreras  -2134.4529 0.9776  -6907.2503   2638.3445  False\n",
            "        Alvaro Obregon         Miguel Hidalgo   6190.5309    0.0   2535.7906   9845.2711   True\n",
            "        Alvaro Obregon             Milpa alta  -8074.5833 0.0006 -14114.8651  -2034.3015   True\n",
            "        Alvaro Obregon                Tlahuac  -8051.5226    0.0 -10932.6972   -5170.348   True\n",
            "        Alvaro Obregon                Tlalpan  -4018.1858 0.0523  -8053.2002     16.8285  False\n",
            "        Alvaro Obregon    Venustiano Carranza  -8440.5616    0.0 -12285.6589  -4595.4644   True\n",
            "        Alvaro Obregon             Xochimilco  -6518.3866    0.0  -10860.456  -2176.3173   True\n",
            "          Azcapotzalco          Benito Juárez    2307.299 0.9738  -2762.8517   7377.4496  False\n",
            "          Azcapotzalco               Coyoacan    607.1782    1.0  -3852.8531   5067.2094  False\n",
            "          Azcapotzalco              Cuahtemoc   2954.2411 0.8108  -2065.3584   7973.8407  False\n",
            "          Azcapotzalco             Cuajimalpa  11005.0642    0.0    5760.764  16249.3644   True\n",
            "          Azcapotzalco      Gustavo A. Madero  -1531.1843 0.9959  -5589.1954   2526.8268  False\n",
            "          Azcapotzalco              Iztacalco   -1089.452    1.0  -9032.1009    6853.197  False\n",
            "          Azcapotzalco             Iztapalapa  -1110.8974 0.9999  -5078.7949      2857.0  False\n",
            "          Azcapotzalco La Magdalena Contreras   4758.8836 0.1936   -789.0949   10306.862  False\n",
            "          Azcapotzalco         Miguel Hidalgo  13083.8674    0.0   8462.4394  17705.2953   True\n",
            "          Azcapotzalco             Milpa alta  -1181.2468    1.0    -7850.99   5488.4963  False\n",
            "          Azcapotzalco                Tlahuac  -1158.1861 0.9998  -5195.7147   2879.3425  False\n",
            "          Azcapotzalco                Tlalpan   2875.1506 0.8208  -2052.5071   7802.8084  False\n",
            "          Azcapotzalco    Venustiano Carranza  -1547.2251 0.9993  -6320.6142   3226.1639  False\n",
            "          Azcapotzalco             Xochimilco    374.9499    1.0  -4807.1381   5557.0379  False\n",
            "         Benito Juárez               Coyoacan  -1700.1208 0.9972  -6361.4567   2961.2151  False\n",
            "         Benito Juárez              Cuahtemoc    646.9422    1.0  -4552.3417   5846.2261  False\n",
            "         Benito Juárez             Cuajimalpa   8697.7652    0.0   3281.2296  14114.3008   True\n",
            "         Benito Juárez      Gustavo A. Madero  -3838.4833 0.1381  -8116.7571    439.7906  False\n",
            "         Benito Juárez              Iztacalco   -3396.751 0.9873 -11454.1603   4660.6584  False\n",
            "         Benito Juárez             Iztapalapa  -3418.1964 0.2692  -7611.0932    774.7004  False\n",
            "         Benito Juárez La Magdalena Contreras   2451.5846 0.9848  -3259.4782   8162.6474  False\n",
            "         Benito Juárez         Miguel Hidalgo  10776.5684    0.0   5960.5774  15592.5594   True\n",
            "         Benito Juárez             Milpa alta  -3488.5458 0.9283 -10294.5467    3317.455  False\n",
            "         Benito Juárez                Tlahuac  -3465.4851 0.2722  -7724.3359    793.3658  False\n",
            "         Benito Juárez                Tlalpan    567.8517    1.0   -4542.724   5678.4274  False\n",
            "         Benito Juárez    Venustiano Carranza  -3854.5241  0.351  -8816.5213   1107.4731  False\n",
            "         Benito Juárez             Xochimilco  -1932.3491 0.9975  -7288.6734   3423.9752  False\n",
            "              Coyoacan              Cuahtemoc    2347.063 0.9316  -2259.2375   6953.3634  False\n",
            "              Coyoacan             Cuajimalpa   10397.886    0.0   5547.6996  15248.0725   True\n",
            "              Coyoacan      Gustavo A. Madero  -2138.3625 0.7765  -5672.3515   1395.6265  False\n",
            "              Coyoacan              Iztacalco  -1696.6301    1.0  -9384.7571   5991.4968  False\n",
            "              Coyoacan             Iztapalapa  -1718.0756 0.9403  -5148.2118   1712.0606  False\n",
            "              Coyoacan La Magdalena Contreras   4151.7054 0.2961  -1025.3294   9328.7402  False\n",
            "              Coyoacan         Miguel Hidalgo  12476.6892    0.0     8307.85  16645.5284   True\n",
            "              Coyoacan             Milpa alta   -1788.425 0.9999  -8152.9437   4576.0937  False\n",
            "              Coyoacan                Tlahuac  -1765.3643 0.9384  -5275.8146    1745.086  False\n",
            "              Coyoacan                Tlalpan   2267.9725 0.9379  -2237.9608   6773.9058  False\n",
            "              Coyoacan    Venustiano Carranza  -2154.4033 0.9442  -6491.0918   2182.2852  False\n",
            "              Coyoacan             Xochimilco   -232.2283    1.0   -5015.079   4550.6224  False\n",
            "             Cuahtemoc             Cuajimalpa   8050.8231    0.0   2681.5764  13420.0697   True\n",
            "             Cuahtemoc      Gustavo A. Madero  -4485.4254 0.0244   -8703.669   -267.1818   True\n",
            "             Cuahtemoc              Iztacalco  -4043.6931 0.9374 -12069.3892    3982.003  False\n",
            "             Cuahtemoc             Iztapalapa  -4065.1386 0.0593  -8196.7648     66.4877  False\n",
            "             Cuahtemoc La Magdalena Contreras   1804.6425 0.9994    -3861.59   7470.8749  False\n",
            "             Cuahtemoc         Miguel Hidalgo  10129.6262    0.0   5366.8832  14892.3693   True\n",
            "             Cuahtemoc             Milpa alta   -4135.488 0.7636 -10903.9146   2632.9387  False\n",
            "             Cuahtemoc                Tlahuac  -4112.4272 0.0622  -8310.9701     86.1157  False\n",
            "             Cuahtemoc                Tlalpan    -79.0905    1.0  -5139.5189   4981.3379  False\n",
            "             Cuahtemoc    Venustiano Carranza  -4501.4663 0.1156  -9411.7991    408.8665  False\n",
            "             Cuahtemoc             Xochimilco  -2579.2913 0.9535  -7887.7902   2729.2077  False\n",
            "            Cuajimalpa      Gustavo A. Madero -12536.2485    0.0 -17019.5379  -8052.9591   True\n",
            "            Cuajimalpa              Iztacalco -12094.5162 0.0001 -20262.6312  -3926.4012   True\n",
            "            Cuajimalpa             Iztapalapa -12115.9616    0.0 -16517.8522  -7714.0711   True\n",
            "            Cuajimalpa La Magdalena Contreras  -6246.1806  0.024  -12112.397   -379.9642   True\n",
            "            Cuajimalpa         Miguel Hidalgo   2078.8031 0.9889  -2920.1994   7077.8056  False\n",
            "            Cuajimalpa             Milpa alta  -12186.311    0.0 -19123.0181   -5249.604   True\n",
            "            Cuajimalpa                Tlahuac -12163.2503    0.0 -16628.0087   -7698.492   True\n",
            "            Cuajimalpa                Tlalpan  -8129.9136    0.0 -13413.3065  -2846.5207   True\n",
            "            Cuajimalpa    Venustiano Carranza -12552.2893    0.0 -17692.1019  -7412.4768   True\n",
            "            Cuajimalpa             Xochimilco -10630.1143    0.0 -16151.5694  -5108.6593   True\n",
            "     Gustavo A. Madero              Iztacalco    441.7323    1.0  -7020.3634    7903.828  False\n",
            "     Gustavo A. Madero             Iztapalapa    420.2868    1.0  -2467.8631   3308.4368  False\n",
            "     Gustavo A. Madero La Magdalena Contreras   6290.0679  0.001   1455.0638   11125.072   True\n",
            "     Gustavo A. Madero         Miguel Hidalgo  14615.0516    0.0  10879.4398  18350.6635   True\n",
            "     Gustavo A. Madero             Milpa alta    349.9375    1.0   -5739.617   6439.4919  False\n",
            "     Gustavo A. Madero                Tlahuac    372.9982    1.0  -2610.0936     3356.09  False\n",
            "     Gustavo A. Madero                Tlalpan   4406.3349 0.0219    297.9277   8514.7422   True\n",
            "     Gustavo A. Madero    Venustiano Carranza    -16.0408    1.0  -3938.0865   3906.0048  False\n",
            "     Gustavo A. Madero             Xochimilco   1906.1342 0.9838  -2504.2214   6316.4897  False\n",
            "             Iztacalco             Iztapalapa    -21.4455    1.0  -7434.9216   7392.0307  False\n",
            "             Iztacalco La Magdalena Contreras   5848.3356 0.5448  -2517.9947  14214.6659  False\n",
            "             Iztacalco         Miguel Hidalgo  14173.3193    0.0   6390.4526   21956.186   True\n",
            "             Iztacalco             Milpa alta    -91.7949    1.0   -9240.614   9057.0243  False\n",
            "             Iztacalco                Tlahuac    -68.7341    1.0  -7519.7109   7382.2427  False\n",
            "             Iztacalco                Tlalpan   3964.6026 0.9435  -4003.9122  11933.1174  False\n",
            "             Iztacalco    Venustiano Carranza   -457.7732    1.0   -8331.823   7416.2767  False\n",
            "             Iztacalco             Xochimilco   1464.4019    1.0    -6663.91   9592.7137  False\n",
            "            Iztapalapa La Magdalena Contreras    5869.781 0.0027    1110.157  10629.4051   True\n",
            "            Iztapalapa         Miguel Hidalgo  14194.7648    0.0  10557.2448  17832.2848   True\n",
            "            Iztapalapa             Milpa alta    -70.3494    1.0  -6100.2275   5959.5287  False\n",
            "            Iztapalapa                Tlahuac    -47.2887    1.0  -2906.5881   2812.0107  False\n",
            "            Iztapalapa                Tlalpan   3986.0481 0.0547    -33.3756   8005.4717  False\n",
            "            Iztapalapa    Venustiano Carranza   -436.3277    1.0   -4265.061   3392.4056  False\n",
            "            Iztapalapa             Xochimilco   1485.8473 0.9986  -2841.7377   5813.4323  False\n",
            "La Magdalena Contreras         Miguel Hidalgo   8324.9838    0.0   3008.2736  13641.6939   True\n",
            "La Magdalena Contreras             Milpa alta  -5940.1304 0.2437 -13109.1809     1228.92  False\n",
            "La Magdalena Contreras                Tlahuac  -5917.0697 0.0029 -10734.8957  -1099.2437   True\n",
            "La Magdalena Contreras                Tlalpan  -1883.7329 0.9988  -7468.6789    3701.213  False\n",
            "La Magdalena Contreras    Venustiano Carranza  -6306.1087 0.0075 -11755.4255   -856.7919   True\n",
            "La Magdalena Contreras             Xochimilco  -4383.9337 0.4037 -10194.6003   1426.7329  False\n",
            "        Miguel Hidalgo             Milpa alta -14265.1142    0.0 -20743.7572  -7786.4711   True\n",
            "        Miguel Hidalgo                Tlahuac -14242.0535    0.0 -17955.4049  -10528.702   True\n",
            "        Miguel Hidalgo                Tlalpan -10208.7167    0.0 -14874.4591  -5542.9743   True\n",
            "        Miguel Hidalgo    Venustiano Carranza -14631.0925    0.0 -19133.6012 -10128.5838   True\n",
            "        Miguel Hidalgo             Xochimilco -12708.9175    0.0 -17642.6157  -7775.2193   True\n",
            "            Milpa alta                Tlahuac     23.0607    1.0  -6052.8636   6098.9851  False\n",
            "            Milpa alta                Tlalpan   4056.3975 0.7759  -2644.1271  10756.9221  False\n",
            "            Milpa alta    Venustiano Carranza   -365.9783    1.0   -6953.881   6221.9244  False\n",
            "            Milpa alta             Xochimilco   1556.1967    1.0  -5333.5969   8445.9903  False\n",
            "               Tlahuac                Tlalpan   4033.3368 0.0577    -54.8405    8121.514  False\n",
            "               Tlahuac    Venustiano Carranza    -389.039    1.0  -4289.8884   3511.8103  False\n",
            "               Tlahuac             Xochimilco    1533.136 0.9983  -2858.3807   5924.6527  False\n",
            "               Tlalpan    Venustiano Carranza  -4422.3758  0.114  -9238.6813    393.9297  False\n",
            "               Tlalpan             Xochimilco  -2500.2008  0.959  -7721.8473   2721.4457  False\n",
            "   Venustiano Carranza             Xochimilco    1922.175 0.9958   -3154.145    6998.495  False\n",
            "-----------------------------------------------------------------------------------------------\n"
          ]
        }
      ],
      "source": [
        "#Prueba Post-Hoc\n",
        "#para realizar comparaciones entre grupos\n",
        "tukeyresultado1 = pairwise_tukeyhsd(OWA1['Precio_m2'], OWA1['Alcaldia'])\n",
        "print(\"\\nResultados Tukey-Kramer prueba Post Hoc:\")\n",
        "print(tukeyresultado1)"
      ]
    },
    {
      "cell_type": "markdown",
      "metadata": {
        "id": "IuoYuh1ggQL4"
      },
      "source": [
        "# ANOVA 2 WAY"
      ]
    },
    {
      "cell_type": "code",
      "execution_count": 12,
      "metadata": {
        "id": "wpZG7llSgGyK"
      },
      "outputs": [
        {
          "data": {
            "text/html": [
              "<div>\n",
              "<style scoped>\n",
              "    .dataframe tbody tr th:only-of-type {\n",
              "        vertical-align: middle;\n",
              "    }\n",
              "\n",
              "    .dataframe tbody tr th {\n",
              "        vertical-align: top;\n",
              "    }\n",
              "\n",
              "    .dataframe thead th {\n",
              "        text-align: right;\n",
              "    }\n",
              "</style>\n",
              "<table border=\"1\" class=\"dataframe\">\n",
              "  <thead>\n",
              "    <tr style=\"text-align: right;\">\n",
              "      <th></th>\n",
              "      <th>Cocina_equip</th>\n",
              "      <th>Amueblado</th>\n",
              "      <th>Precio_m2</th>\n",
              "    </tr>\n",
              "  </thead>\n",
              "  <tbody>\n",
              "    <tr>\n",
              "      <th>0</th>\n",
              "      <td>Si</td>\n",
              "      <td>No</td>\n",
              "      <td>6500.00</td>\n",
              "    </tr>\n",
              "    <tr>\n",
              "      <th>1</th>\n",
              "      <td>Si</td>\n",
              "      <td>No</td>\n",
              "      <td>1200.00</td>\n",
              "    </tr>\n",
              "    <tr>\n",
              "      <th>2</th>\n",
              "      <td>Si</td>\n",
              "      <td>No</td>\n",
              "      <td>17500.00</td>\n",
              "    </tr>\n",
              "    <tr>\n",
              "      <th>3</th>\n",
              "      <td>No</td>\n",
              "      <td>No</td>\n",
              "      <td>1046.40</td>\n",
              "    </tr>\n",
              "    <tr>\n",
              "      <th>4</th>\n",
              "      <td>No</td>\n",
              "      <td>No</td>\n",
              "      <td>1195.00</td>\n",
              "    </tr>\n",
              "    <tr>\n",
              "      <th>...</th>\n",
              "      <td>...</td>\n",
              "      <td>...</td>\n",
              "      <td>...</td>\n",
              "    </tr>\n",
              "    <tr>\n",
              "      <th>653</th>\n",
              "      <td>Si</td>\n",
              "      <td>No</td>\n",
              "      <td>5791.80</td>\n",
              "    </tr>\n",
              "    <tr>\n",
              "      <th>654</th>\n",
              "      <td>Si</td>\n",
              "      <td>No</td>\n",
              "      <td>2200.00</td>\n",
              "    </tr>\n",
              "    <tr>\n",
              "      <th>655</th>\n",
              "      <td>Si</td>\n",
              "      <td>No</td>\n",
              "      <td>1094.44</td>\n",
              "    </tr>\n",
              "    <tr>\n",
              "      <th>656</th>\n",
              "      <td>Si</td>\n",
              "      <td>No</td>\n",
              "      <td>650.00</td>\n",
              "    </tr>\n",
              "    <tr>\n",
              "      <th>657</th>\n",
              "      <td>Si</td>\n",
              "      <td>No</td>\n",
              "      <td>3090.00</td>\n",
              "    </tr>\n",
              "  </tbody>\n",
              "</table>\n",
              "<p>658 rows × 3 columns</p>\n",
              "</div>"
            ],
            "text/plain": [
              "    Cocina_equip Amueblado  Precio_m2\n",
              "0             Si        No    6500.00\n",
              "1             Si        No    1200.00\n",
              "2             Si        No   17500.00\n",
              "3             No        No    1046.40\n",
              "4             No        No    1195.00\n",
              "..           ...       ...        ...\n",
              "653           Si        No    5791.80\n",
              "654           Si        No    2200.00\n",
              "655           Si        No    1094.44\n",
              "656           Si        No     650.00\n",
              "657           Si        No    3090.00\n",
              "\n",
              "[658 rows x 3 columns]"
            ]
          },
          "execution_count": 12,
          "metadata": {},
          "output_type": "execute_result"
        }
      ],
      "source": [
        "TWA = inmu.iloc[ : , [12,14,22]]\n",
        "TWA"
      ]
    },
    {
      "cell_type": "code",
      "execution_count": 9,
      "metadata": {
        "colab": {
          "base_uri": "https://localhost:8080/"
        },
        "id": "hrsP1H3KgdnL",
        "outputId": "9d77f986-a227-4a81-d480-b53d66feb7da"
      },
      "outputs": [
        {
          "name": "stdout",
          "output_type": "stream",
          "text": [
            "Resultados ANOVA de dos vías:\n",
            "                    sum_sq     df          F   PR(>F)\n",
            "Cocina_equip  6.713526e+08    1.0  14.087171  0.00019\n",
            "Amueblado     1.172560e+08    3.0   0.820138  0.48299\n",
            "Residual      3.112003e+10  653.0        NaN      NaN\n"
          ]
        }
      ],
      "source": [
        "# ANOVA de 2 vías.\n",
        "formula = 'Precio_m2 ~ Cocina_equip + Amueblado'\n",
        "modelo = ols(formula, data=TWA).fit()\n",
        "tablANOVA = sm.stats.anova_lm(modelo, typ=2)\n",
        "\n",
        "# Imprimimos los resultados\n",
        "print(\"Resultados ANOVA de dos vías:\")\n",
        "print(tablANOVA)"
      ]
    },
    {
      "cell_type": "code",
      "execution_count": 10,
      "metadata": {
        "colab": {
          "base_uri": "https://localhost:8080/",
          "height": 564
        },
        "id": "_Kcai67Egq3i",
        "outputId": "2026d6ef-baf2-4a37-f325-b7f6388c8a20"
      },
      "outputs": [
        {
          "data": {
            "image/png": "[encoded data removed]",
            "text/plain": [
              "<Figure size 1200x600 with 1 Axes>"
            ]
          },
          "metadata": {},
          "output_type": "display_data"
        }
      ],
      "source": [
        "plt.figure(figsize=(12, 6))\n",
        "sns.boxplot(x='Amueblado', y='Precio_m2', hue='Cocina_equip', data=TWA, palette='Set2')\n",
        "plt.title('Box plot de Casas Amuebladas y su Precio')\n",
        "plt.xlabel('Amueblado')\n",
        "plt.ylabel('Precio')\n",
        "plt.legend(title='Cocina Equipada')\n",
        "plt.show()"
      ]
    },
    {
      "cell_type": "code",
      "execution_count": 11,
      "metadata": {
        "colab": {
          "base_uri": "https://localhost:8080/"
        },
        "id": "G9DPXBTHhCrF",
        "outputId": "28d97d20-4eed-423a-b412-5f2011faee99"
      },
      "outputs": [
        {
          "name": "stdout",
          "output_type": "stream",
          "text": [
            "\n",
            "Resultados de la prueba Tukey HSD para Inmuebles Amueblados:\n",
            "     Multiple Comparison of Means - Tukey HSD, FWER=0.05     \n",
            "=============================================================\n",
            "group1 group2  meandiff  p-adj     lower      upper    reject\n",
            "-------------------------------------------------------------\n",
            "    No    No  -1995.7191 0.7596  -7228.6646  3237.2263  False\n",
            "    No     Si  2415.5309 0.6341  -2817.4146  7648.4763  False\n",
            "    No    Si    571.6687 0.9994 -12146.4691 13289.8066  False\n",
            "   No      Si    4411.25 0.4084  -2919.9794 11742.4794  False\n",
            "   No     Si   2567.3878  0.963 -11148.0865 16282.8622  False\n",
            "    Si    Si  -1843.8622 0.9857 -15559.3365 11871.6122  False\n",
            "-------------------------------------------------------------\n",
            "\n",
            "Resultados de la prueba Tukey HSD para Inmuebles con Cocina Equipada:\n",
            "   Multiple Comparison of Means - Tukey HSD, FWER=0.05   \n",
            "=========================================================\n",
            "group1 group2  meandiff p-adj    lower     upper   reject\n",
            "---------------------------------------------------------\n",
            "    No     Si 3460.5212 0.0002 1652.3946 5268.6478   True\n",
            "---------------------------------------------------------\n"
          ]
        }
      ],
      "source": [
        "# Realización de la prueba Post Hoc (Tukey HSD):\n",
        "# Ambueblado\n",
        "posthoc1 = pairwise_tukeyhsd(TWA['Precio_m2'], TWA['Amueblado'], alpha=0.05)\n",
        "print(\"\\nResultados de la prueba Tukey HSD para Inmuebles Amueblados:\")\n",
        "print(posthoc1)\n",
        "\n",
        "# Para Cocina Equipada\n",
        "posthoc2 = pairwise_tukeyhsd(TWA['Precio_m2'], TWA['Cocina_equip'], alpha=0.05)\n",
        "print(\"\\nResultados de la prueba Tukey HSD para Inmuebles con Cocina Equipada:\")\n",
        "print(posthoc2)"
      ]
    }
  ],
  "metadata": {
    "colab": {
      "provenance": []
    },
    "kernelspec": {
      "display_name": "Python 3",
      "name": "python3"
    },
    "language_info": {
      "codemirror_mode": {
        "name": "ipython",
        "version": 3
      },
      "file_extension": ".py",
      "mimetype": "text/x-python",
      "name": "python",
      "nbconvert_exporter": "python",
      "pygments_lexer": "ipython3",
      "version": "3.11.4"
    }
  },
  "nbformat": 4,
  "nbformat_minor": 0
}
